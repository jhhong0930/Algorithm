{
 "metadata": {
  "language_info": {
   "codemirror_mode": {
    "name": "ipython",
    "version": 3
   },
   "file_extension": ".py",
   "mimetype": "text/x-python",
   "name": "python",
   "nbconvert_exporter": "python",
   "pygments_lexer": "ipython3",
   "version": "3.9.6"
  },
  "orig_nbformat": 4,
  "kernelspec": {
   "name": "python3",
   "display_name": "Python 3.9.6 64-bit"
  },
  "interpreter": {
   "hash": "dacf369587501b26418819cff8f6b8b14cb77ec930ad41743fe8f2a5d9548398"
  }
 },
 "nbformat": 4,
 "nbformat_minor": 2,
 "cells": [
  {
   "source": [
    "## 삽입 정렬(insertion sort)\n",
    "- 삽입 정렬은 두 번째 인덱스부터 시작한다\n",
    "- 해당 인덱스(key 값) 앞에 있는 데이터(B)부터 비교하여 key값이 더 작으면 B값을 뒤 인덱스로 복사한다\n",
    "- key 값이 더 큰 데이터를 만날때까지 반복하고 큰 데이터를 만난 위치 바로 뒤에 key값을 이동한다\n",
    "- 삽입 정렬 알고리즘의 시간 복잡도: O(n**2)"
   ],
   "cell_type": "markdown",
   "metadata": {}
  },
  {
   "cell_type": "code",
   "execution_count": 1,
   "metadata": {},
   "outputs": [],
   "source": [
    "def insertion_sort(data):\n",
    "    for index in range(len(data) - 1):\n",
    "        for index2 in range(index + 1, 0, -1):\n",
    "            if data[index2] < data[index2 - 1]:\n",
    "                data[index2], data[index2 - 1] = data[index2 - 1], data[index2]\n",
    "            else:\n",
    "                break\n",
    "    return data"
   ]
  },
  {
   "cell_type": "code",
   "execution_count": 2,
   "metadata": {},
   "outputs": [
    {
     "output_type": "stream",
     "name": "stdout",
     "text": [
      "[0, 1, 3, 5, 7, 10, 12, 14, 16, 21, 23, 24, 25, 27, 28, 29, 30, 33, 35, 36, 37, 40, 41, 43, 44, 46, 48, 49, 52, 56, 59, 63, 64, 65, 66, 68, 69, 70, 71, 72, 77, 79, 80, 82, 83, 84, 86, 89, 97, 99]\n"
     ]
    }
   ],
   "source": [
    "import random\n",
    "\n",
    "data_list = random.sample(range(100), 50)\n",
    "print (insertion_sort(data_list))"
   ]
  },
  {
   "cell_type": "code",
   "execution_count": null,
   "metadata": {},
   "outputs": [],
   "source": []
  }
 ]
}