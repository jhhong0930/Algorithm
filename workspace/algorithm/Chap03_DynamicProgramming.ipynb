{
 "metadata": {
  "language_info": {
   "codemirror_mode": {
    "name": "ipython",
    "version": 3
   },
   "file_extension": ".py",
   "mimetype": "text/x-python",
   "name": "python",
   "nbconvert_exporter": "python",
   "pygments_lexer": "ipython3",
   "version": "3.9.6"
  },
  "orig_nbformat": 4,
  "kernelspec": {
   "name": "python3",
   "display_name": "Python 3.9.6 64-bit"
  },
  "interpreter": {
   "hash": "dacf369587501b26418819cff8f6b8b14cb77ec930ad41743fe8f2a5d9548398"
  }
 },
 "nbformat": 4,
 "nbformat_minor": 2,
 "cells": [
  {
   "source": [
    "### 동적 계획법(dynamic programming)\n",
    "- 입력 크기가 작은 부분 문제들을 해결한 후 해당 부분 문제의 해를 활용하여 보다 큰 크기의 부분 문제를 해결, 최종적으로 전체 문제를 해결하는 알고리즘\n",
    "- 상황식 접근법으로 가장 최하위 해답을 구한 후 저장, 해당 결과값을 이용하여 상위 문제를 풀어가는 방식\n",
    "- Memoization 기법 사용\n",
    "    - 프로그램 실행 시 이전에 계산한 값을 저장하여 다시 계산하지 않도록 하여 전체 실행 속도를 빠르게 하는 기술\n",
    "- 문제를 잘게 쪼갤 때 부분 문제는 중복되어 재활용된다(ex 피보나치 수열)\n",
    "### 분할 정복(divide and conquer)\n",
    "- 문제를 나눌 수 없을 때까지 나누어 각각을 풀며 다시 합병하여 문제의 답을 얻는 알고리즘\n",
    "- 하양식 접근법으로 상위의 해답을 구하기 위해 아래로 내려가며 하위의 해답을 구하는 방식(일반적으로 재귀함수로 구현)\n",
    "- 문제를 잘게 쪼갤 때 부분 문제는 서로 중복되지 않는다(ex 병합 정렬, 퀵 정렬 등)"
   ],
   "cell_type": "markdown",
   "metadata": {}
  },
  {
   "source": [
    "### 공통점과 차이점\n",
    "- 공통점\n",
    "    - 문제를 잘게 쪼개어 가장 작은 단위로 분할\n",
    "- 차이점\n",
    "    - 동적 게획법\n",
    "        - 부분 문제는 중복되어 상위 문제 해결시 재활용된다\n",
    "        - Memoization 기법 사용(부분 문제의 해답을 저장하여 재활용하는 최적화 기법으로 사용)\n",
    "    - 분할 정복\n",
    "        - 부분 문제는 서로 중복되지 않는다\n",
    "        - Memoization 기법X"
   ],
   "cell_type": "markdown",
   "metadata": {}
  },
  {
   "source": [
    "피보나치 수열 구현"
   ],
   "cell_type": "markdown",
   "metadata": {}
  },
  {
   "cell_type": "code",
   "execution_count": 1,
   "metadata": {},
   "outputs": [],
   "source": [
    "# 재귀 호출 활용\n",
    "def fibo(num):\n",
    "    if num <= 1:\n",
    "        return num\n",
    "    return fibo(num - 1) + fibo(num - 2)"
   ]
  },
  {
   "cell_type": "code",
   "execution_count": 3,
   "metadata": {},
   "outputs": [],
   "source": [
    "# 동적 계획법 활용\n",
    "def fibo(num):\n",
    "    cache = [0 for index in range(num + 1)]\n",
    "    cache[0] = 0\n",
    "    cache[1] = 1\n",
    "\n",
    "    for index in range(2, num + 1):\n",
    "        cache[index] = cache[index - 1] + cache[index - 2]\n",
    "    return cache[num]"
   ]
  },
  {
   "cell_type": "code",
   "execution_count": 5,
   "metadata": {},
   "outputs": [
    {
     "output_type": "execute_result",
     "data": {
      "text/plain": [
       "55"
      ]
     },
     "metadata": {},
     "execution_count": 5
    }
   ],
   "source": [
    "fibo(10)"
   ]
  }
 ]
}