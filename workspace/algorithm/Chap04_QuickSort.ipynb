{
 "metadata": {
  "language_info": {
   "codemirror_mode": {
    "name": "ipython",
    "version": 3
   },
   "file_extension": ".py",
   "mimetype": "text/x-python",
   "name": "python",
   "nbconvert_exporter": "python",
   "pygments_lexer": "ipython3",
   "version": "3.9.6"
  },
  "orig_nbformat": 4,
  "kernelspec": {
   "name": "python3",
   "display_name": "Python 3.9.6 64-bit"
  },
  "interpreter": {
   "hash": "dacf369587501b26418819cff8f6b8b14cb77ec930ad41743fe8f2a5d9548398"
  }
 },
 "nbformat": 4,
 "nbformat_minor": 2,
 "cells": [
  {
   "source": [
    "## 퀵 정렬(quick sort)\n",
    "- 기준점(pivot)을 정하여 기준점보다 작은 데이터는 왼쪽, 큰 데이터는 오른쪽으로 모으는 함수를 작성\n",
    "- 각 왼쪽, 오른쪽은 재귀를 사용하여 다시 동일 함수를 호출하여 위 작업을 반복\n",
    "- 퀵 정렬의 시간복잡도: O(logN), 최악의 경우 O(n**2)"
   ],
   "cell_type": "markdown",
   "metadata": {}
  },
  {
   "cell_type": "code",
   "execution_count": 2,
   "metadata": {},
   "outputs": [],
   "source": [
    "def qsort(data):\n",
    "    # 리스트 갯수가 한개이면 리턴\n",
    "    if len(data) <= 1:\n",
    "        return data\n",
    "    \n",
    "    left, right = list(), list()\n",
    "    # 리스트 맨 앞의 데이터를 기준점으로\n",
    "    pivot = data[0]\n",
    "    \n",
    "    # 맨 앞의 데이터를 제외한 나머지를 기준점과 비교\n",
    "    for index in range(1, len(data)):\n",
    "        if pivot > data[index]:\n",
    "            left.append(data[index])\n",
    "        else:\n",
    "            right.append(data[index])\n",
    "    \n",
    "    return qsort(left) + [pivot] + qsort(right)"
   ]
  },
  {
   "cell_type": "code",
   "execution_count": null,
   "metadata": {},
   "outputs": [],
   "source": [
    "# list comprehension 사용\n",
    "def qsort(data):\n",
    "    if len(data) <= 1:\n",
    "        return data\n",
    "    \n",
    "    pivot = data[0]\n",
    "\n",
    "    left = [ item for item in data[1:] if pivot > item ]\n",
    "    right = [ item for item in data[1:] if pivot <= item ]\n",
    "    \n",
    "    return qsort(left) + [pivot] + qsort(right)"
   ]
  },
  {
   "cell_type": "code",
   "execution_count": 3,
   "metadata": {},
   "outputs": [
    {
     "output_type": "execute_result",
     "data": {
      "text/plain": [
       "[8, 10, 24, 29, 34, 45, 58, 81, 83, 95]"
      ]
     },
     "metadata": {},
     "execution_count": 3
    }
   ],
   "source": [
    "import random\n",
    "\n",
    "data_list = random.sample(range(100), 10)\n",
    "\n",
    "qsort(data_list)"
   ]
  }
 ]
}