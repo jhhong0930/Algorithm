{
 "cells": [
  {
   "cell_type": "markdown",
   "source": [
    "## 백 트레킹(Backtracking)\r\n",
    "- 제약 조건 만족 문제에서 해를 찾기 위한 전략\r\n",
    "    - 해를 찾기 위해 후보군에 제약 조건을 점진적으로 체크하다가, 해당 후보군이 제약 조건을 만족할 수 없다고 판단되는 즉시 backtrack(다시는 이 후보군을 체크하지 않을 것을 표기) 하고 바로 다른 후보군으로 넘어가며 최적의 해를 찾는 방법\r\n",
    "- 고려할 수 있는 모든 경우의 수(후보군) 를 상대공간트리를 통해 표현\r\n",
    "    - 상태 공간 트리를 탐색하면서, 제약이 맞지 않으면 해의 후보가 될만한 곳으로 바로 넘어가서 탐색\r\n",
    "        - Promising: 해당 루트가 조건에 맞는지를 검사하는 기법\r\n",
    "        - Pruning (가지치기): 조건에 맞지 않으면 포기하고 다른 루트로 바로 돌아서서, 탐색의 시간을 절약하는 기법"
   ],
   "metadata": {}
  },
  {
   "cell_type": "markdown",
   "source": [
    "#### N Queen 문제\r\n",
    "- NxN 크기의 체스판에 N개의 퀸을 서로 공격할 수 없도록 배치하는 문제"
   ],
   "metadata": {}
  },
  {
   "cell_type": "code",
   "execution_count": 1,
   "source": [
    "def is_available(candidate, current_col):\r\n",
    "    current_row = len(candidate)\r\n",
    "    for queen_row in range(current_row):    \r\n",
    "        if candidate[queen_row] == current_col or abs(candidate[queen_row] - current_col) == current_row - queen_row:\r\n",
    "            return False\r\n",
    "    return True\r\n",
    "\r\n",
    "\r\n",
    "def DFS(N, current_row, current_candidate, final_result):\r\n",
    "    if current_row == N:\r\n",
    "        final_result.append(current_candidate[:])\r\n",
    "        return\r\n",
    "    \r\n",
    "    for candidate_col in range(N):\r\n",
    "        if is_available(current_candidate, candidate_col):\r\n",
    "            current_candidate.append(candidate_col)\r\n",
    "            DFS(N, current_row + 1, current_candidate, final_result)\r\n",
    "            current_candidate.pop()\r\n",
    "\r\n",
    "\r\n",
    "def solve_n_queens(N):\r\n",
    "    final_result = []\r\n",
    "    DFS(N, 0, [], final_result)\r\n",
    "    return final_result"
   ],
   "outputs": [],
   "metadata": {}
  },
  {
   "cell_type": "code",
   "execution_count": 2,
   "source": [
    "solve_n_queens(4)"
   ],
   "outputs": [
    {
     "output_type": "execute_result",
     "data": {
      "text/plain": [
       "[[1, 3, 0, 2], [2, 0, 3, 1]]"
      ]
     },
     "metadata": {},
     "execution_count": 2
    }
   ],
   "metadata": {}
  },
  {
   "cell_type": "code",
   "execution_count": null,
   "source": [],
   "outputs": [],
   "metadata": {}
  }
 ],
 "metadata": {
  "orig_nbformat": 4,
  "language_info": {
   "name": "python",
   "version": "3.9.6",
   "mimetype": "text/x-python",
   "codemirror_mode": {
    "name": "ipython",
    "version": 3
   },
   "pygments_lexer": "ipython3",
   "nbconvert_exporter": "python",
   "file_extension": ".py"
  },
  "kernelspec": {
   "name": "python3",
   "display_name": "Python 3.9.6 64-bit"
  },
  "interpreter": {
   "hash": "dacf369587501b26418819cff8f6b8b14cb77ec930ad41743fe8f2a5d9548398"
  }
 },
 "nbformat": 4,
 "nbformat_minor": 2
}