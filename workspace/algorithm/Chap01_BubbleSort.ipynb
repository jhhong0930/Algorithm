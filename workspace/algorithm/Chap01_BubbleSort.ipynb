{
 "metadata": {
  "language_info": {
   "codemirror_mode": {
    "name": "ipython",
    "version": 3
   },
   "file_extension": ".py",
   "mimetype": "text/x-python",
   "name": "python",
   "nbconvert_exporter": "python",
   "pygments_lexer": "ipython3",
   "version": "3.9.6"
  },
  "orig_nbformat": 4,
  "kernelspec": {
   "name": "python3",
   "display_name": "Python 3.9.6 64-bit"
  },
  "interpreter": {
   "hash": "dacf369587501b26418819cff8f6b8b14cb77ec930ad41743fe8f2a5d9548398"
  }
 },
 "nbformat": 4,
 "nbformat_minor": 2,
 "cells": [
  {
   "source": [
    "## 버블 정렬(bubble sort)\n",
    "- 두 인접한 데이터를 비교하여 앞쪽 데이터가 더 크면 두개를 교환하는 정렬 알고리즘\n",
    "- 버블 정렬의 시간 복잡도: O(n**2)"
   ],
   "cell_type": "markdown",
   "metadata": {}
  },
  {
   "cell_type": "code",
   "execution_count": 13,
   "metadata": {},
   "outputs": [],
   "source": [
    "def bubblesort(data):\n",
    "    for index in range(len(data) - 1): # 턴 횟수\n",
    "        swap = False\n",
    "        for index2 in range(len(data) - index - 1): # 비교 횟수\n",
    "            if data[index2] > data[index2 + 1]: # 앞 데이터가 뒤보다 크면 교환\n",
    "                data[index2], data[index2 + 1] = data[index2 + 1], data[index2]\n",
    "                swap = True\n",
    "        if swap == False: # 교환된것이 없으면 종료\n",
    "            break\n",
    "    return data"
   ]
  },
  {
   "cell_type": "code",
   "execution_count": 15,
   "metadata": {},
   "outputs": [
    {
     "output_type": "stream",
     "name": "stdout",
     "text": [
      "[0, 2, 8, 11, 14, 16, 19, 22, 23, 25, 26, 27, 29, 30, 36, 37, 38, 40, 48, 50, 57, 61, 64, 65, 68, 70, 82, 83, 94, 98]\n"
     ]
    }
   ],
   "source": [
    "import random\n",
    "\n",
    "data_list = random.sample(range(100), 30)\n",
    "print(bubblesort(data_list))"
   ]
  }
 ]
}