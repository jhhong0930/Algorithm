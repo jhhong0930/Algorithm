{
 "cells": [
  {
   "cell_type": "markdown",
   "source": [
    "## 신장 트리(Spanning Tree)\r\n",
    "- 원래의 그래프의 모든 노드가 연결되어 있으면서 트리의 속성을 만족하는 그래프\r\n",
    "- 신장 트리의 조건\r\n",
    "    - 본래의 그래프의 모든 노드를 포함해야 한다\r\n",
    "    - 모든 노드가 서로 연결되어야 한다\r\n",
    "    - 트리의 속성을 만족시켜야 한다(사이클X)"
   ],
   "metadata": {}
  },
  {
   "cell_type": "markdown",
   "source": [
    "### 최소 신장 트리(Minimum Spaning Tree, MST)\r\n",
    "- 가능한 신장 트리 중 간선의 가중치 합이 최소인 신장 트리\r\n",
    "- 대표적인 최소 신장 트리 알고리즘\r\n",
    "    - 크루스칼 알고리즘(Kruskal's algorithm)\r\n",
    "    - 프림 알고리즘(Prim's algorithm)"
   ],
   "metadata": {}
  },
  {
   "cell_type": "markdown",
   "source": [
    "### 크루스칼 알고리즘(Kruskal's algorithm)\r\n",
    "- 모든 정점을 독립적인 집합으로 만든다\r\n",
    "- 모든 간선을 비용 기준으로 정렬 후 비용이 작은 간선부터 양 끝의 두 정점을 비교한다\r\n",
    "- 두 정점의 최상위 정점을 확인 후 서로 다를 경우 두 정점을 연결한다(사이클이 생기지 않도록)\r\n",
    "> 탐욕 알고리즘을 기초로 한다(당장 눈앞의 최소 비용을 선택하여 최적의 솔루션을 찾음)"
   ],
   "metadata": {}
  },
  {
   "cell_type": "markdown",
   "source": [
    "### Union-Find 알고리즘\r\n",
    "- Disjoint Set을 표현할 때 사용하는 알고리즘으로 트리 구조를 활용하는 알고리즘\r\n",
    "- Disjoint Set\r\n",
    "    - 서로 중복되지 않는 부분 집합들로 나누어진 원소들에 대한 정보를 저장하고 조작하는 자료구조\r\n",
    "    - 공통 원소가 없는 상호 배타적인 부분 집합들로 나누어진 원소들에 대한 자료구조\r\n",
    "    - 서로소 집합 자료구조라고도 한다"
   ],
   "metadata": {}
  },
  {
   "cell_type": "markdown",
   "source": [
    "1. 초기화\r\n",
    "    - n개의 원소가 개별 집합으로 이루어지도록 초기화\r\n",
    "2. Union\r\n",
    "    - 두 개별 집합을 하나의 집합으로 합친다(두 트리를 하나의 트리로 만든다)\r\n",
    "3. Find\r\n",
    "    - 여러 노드가 존재할 때 두개의 노드를 선택하여 현재 두 노드가 서로 같은 그래프에 속하는지 판별하기 위해 각 그룹의 최상단 원소(루트 노드)를 확인"
   ],
   "metadata": {}
  },
  {
   "cell_type": "code",
   "execution_count": 3,
   "source": [
    "mygraph = {\r\n",
    "    'vertices': ['A', 'B', 'C', 'D', 'E', 'F', 'G'],\r\n",
    "    'edges': [\r\n",
    "        (7, 'A', 'B'),\r\n",
    "        (5, 'A', 'D'),\r\n",
    "        (7, 'B', 'A'),\r\n",
    "        (8, 'B', 'C'),\r\n",
    "        (9, 'B', 'D'),\r\n",
    "        (7, 'B', 'E'),\r\n",
    "        (8, 'C', 'B'),\r\n",
    "        (5, 'C', 'E'),\r\n",
    "        (5, 'D', 'A'),\r\n",
    "        (9, 'D', 'B'),\r\n",
    "        (7, 'D', 'E'),\r\n",
    "        (6, 'D', 'F'),\r\n",
    "        (7, 'E', 'B'),\r\n",
    "        (5, 'E', 'C'),\r\n",
    "        (7, 'E', 'D'),\r\n",
    "        (8, 'E', 'F'),\r\n",
    "        (9, 'E', 'G'),\r\n",
    "        (6, 'F', 'D'),\r\n",
    "        (8, 'F', 'E'),\r\n",
    "        (11, 'F', 'G'),\r\n",
    "        (9, 'G', 'E'),\r\n",
    "        (11, 'G', 'F')\r\n",
    "    ]\r\n",
    "}"
   ],
   "outputs": [],
   "metadata": {}
  },
  {
   "cell_type": "code",
   "execution_count": 4,
   "source": [
    "parent = dict()\r\n",
    "rank = dict()\r\n",
    "\r\n",
    "\r\n",
    "def find(node):\r\n",
    "    # path compression 기법\r\n",
    "    if parent[node] != node:\r\n",
    "        parent[node] = find(parent[node])\r\n",
    "    return parent[node]\r\n",
    "\r\n",
    "\r\n",
    "def union(node_v, node_u):\r\n",
    "    root1 = find(node_v)\r\n",
    "    root2 = find(node_u)\r\n",
    "    \r\n",
    "    # union-by-rank 기법\r\n",
    "    if rank[root1] > rank[root2]:\r\n",
    "        parent[root2] = root1\r\n",
    "    else:\r\n",
    "        parent[root1] = root2\r\n",
    "        if rank[root1] == rank[root2]:\r\n",
    "            rank[root2] += 1\r\n",
    "    \r\n",
    "    \r\n",
    "def make_set(node):\r\n",
    "    parent[node] = node\r\n",
    "    rank[node] = 0\r\n",
    "\r\n",
    "def kruskal(graph):\r\n",
    "    mst = list()\r\n",
    "    \r\n",
    "    # 1. 초기화\r\n",
    "    for node in graph['vertices']:\r\n",
    "        make_set(node)\r\n",
    "    \r\n",
    "    # 2. 간선 weight 기반 sorting\r\n",
    "    edges = graph['edges']\r\n",
    "    edges.sort()\r\n",
    "    \r\n",
    "    # 3. 간선 연결 (사이클 없는)\r\n",
    "    for edge in edges:\r\n",
    "        weight, node_v, node_u = edge\r\n",
    "        if find(node_v) != find(node_u):\r\n",
    "            union(node_v, node_u)\r\n",
    "            mst.append(edge)\r\n",
    "    \r\n",
    "    return mst"
   ],
   "outputs": [],
   "metadata": {}
  },
  {
   "cell_type": "code",
   "execution_count": 5,
   "source": [
    "kruskal(mygraph)"
   ],
   "outputs": [
    {
     "output_type": "execute_result",
     "data": {
      "text/plain": [
       "[(5, 'A', 'D'),\n",
       " (5, 'C', 'E'),\n",
       " (6, 'D', 'F'),\n",
       " (7, 'A', 'B'),\n",
       " (7, 'B', 'E'),\n",
       " (9, 'E', 'G')]"
      ]
     },
     "metadata": {},
     "execution_count": 5
    }
   ],
   "metadata": {}
  },
  {
   "cell_type": "markdown",
   "source": [
    "### 프림 알고리즘(Prim's algorithm)\r\n",
    "- 시작 정점을 선택한 후, 정점에 인접한 간선 중 최소 간선으로 연결된 정점을 선택하고 해당 정점에서 다시 최소 간선으로 연결된 정점을 선택하는 방식으로 최소 신장 트리를 확장해가는 방식\r\n",
    "- 크루스칼과 프림의 비교\r\n",
    "    - 둘 다 탐욕 알고리즘을 깇로 한다\r\n",
    "    - 크루스칼은 가장 가중치가 적은 간선부터 선택하며 MST를 구한다\r\n",
    "    - 프림은 특정 정점에서 시작하여 해당 정점에 연결된 가중치가 제일 작은 간선을 선택하여 간선으로 연결된 정점들에 연결된 간선 중 가장 가중치가 작은 간선을 선택하는 방식으로 MST를 구한다"
   ],
   "metadata": {}
  },
  {
   "cell_type": "code",
   "execution_count": 2,
   "source": [
    "myedges = [\r\n",
    "    (7, 'A', 'B'), (5, 'A', 'D'),\r\n",
    "    (8, 'B', 'C'), (9, 'B', 'D'), (7, 'B', 'E'),\r\n",
    "    (5, 'C', 'E'),\r\n",
    "    (7, 'D', 'E'), (6, 'D', 'F'),\r\n",
    "    (8, 'E', 'F'), (9, 'E', 'G'),\r\n",
    "    (11, 'F', 'G')\r\n",
    "]"
   ],
   "outputs": [],
   "metadata": {}
  },
  {
   "cell_type": "code",
   "execution_count": 3,
   "source": [
    "from collections import defaultdict\r\n",
    "from heapq import *\r\n",
    "\r\n",
    "def prim(start_node, edges):\r\n",
    "    mst = list()\r\n",
    "    adjacent_edges = defaultdict(list)\r\n",
    "    for weight, n1, n2 in edges:\r\n",
    "        adjacent_edges[n1].append((weight, n1, n2))\r\n",
    "        adjacent_edges[n2].append((weight, n2, n1))\r\n",
    "\r\n",
    "    connected_nodes = set(start_node)\r\n",
    "    candidate_edge_list = adjacent_edges[start_node]\r\n",
    "    heapify(candidate_edge_list)\r\n",
    "    \r\n",
    "    while candidate_edge_list:\r\n",
    "        weight, n1, n2 = heappop(candidate_edge_list)\r\n",
    "        if n2 not in connected_nodes:\r\n",
    "            connected_nodes.add(n2)\r\n",
    "            mst.append((weight, n1, n2))\r\n",
    "            \r\n",
    "            for edge in adjacent_edges[n2]:\r\n",
    "                if edge[2] not in connected_nodes:\r\n",
    "                    heappush(candidate_edge_list, edge)\r\n",
    "\r\n",
    "    return mst"
   ],
   "outputs": [],
   "metadata": {}
  },
  {
   "cell_type": "code",
   "execution_count": 4,
   "source": [
    "prim ('A', myedges)"
   ],
   "outputs": [
    {
     "output_type": "execute_result",
     "data": {
      "text/plain": [
       "[(5, 'A', 'D'),\n",
       " (6, 'D', 'F'),\n",
       " (7, 'A', 'B'),\n",
       " (7, 'B', 'E'),\n",
       " (5, 'E', 'C'),\n",
       " (9, 'E', 'G')]"
      ]
     },
     "metadata": {},
     "execution_count": 4
    }
   ],
   "metadata": {}
  }
 ],
 "metadata": {
  "orig_nbformat": 4,
  "language_info": {
   "name": "python",
   "version": "3.9.6",
   "mimetype": "text/x-python",
   "codemirror_mode": {
    "name": "ipython",
    "version": 3
   },
   "pygments_lexer": "ipython3",
   "nbconvert_exporter": "python",
   "file_extension": ".py"
  },
  "kernelspec": {
   "name": "python3",
   "display_name": "Python 3.9.6 64-bit"
  },
  "interpreter": {
   "hash": "dacf369587501b26418819cff8f6b8b14cb77ec930ad41743fe8f2a5d9548398"
  }
 },
 "nbformat": 4,
 "nbformat_minor": 2
}