{
 "metadata": {
  "language_info": {
   "codemirror_mode": {
    "name": "ipython",
    "version": 3
   },
   "file_extension": ".py",
   "mimetype": "text/x-python",
   "name": "python",
   "nbconvert_exporter": "python",
   "pygments_lexer": "ipython3",
   "version": "3.9.6"
  },
  "orig_nbformat": 4,
  "kernelspec": {
   "name": "python3",
   "display_name": "Python 3.9.6 64-bit"
  },
  "interpreter": {
   "hash": "dacf369587501b26418819cff8f6b8b14cb77ec930ad41743fe8f2a5d9548398"
  }
 },
 "nbformat": 4,
 "nbformat_minor": 2,
 "cells": [
  {
   "source": [
    "## 그래프(Graph)\n",
    "- 실제 세계의 현상이나 사물을 정점(Vertex) 또는 노드(Node)와 간선(Edge)로 표현하기 위해 사용\n",
    "- 그래프 관련 용어\n",
    "    - 노드 (Node): 위치, 정점(Vertex)이라고도 한다\n",
    "    - 간선 (Edge): 위치 간의 관계를 표시한 선으로 노드를 연결한 선 (link 또는 branch 라고도 한다)\n",
    "    - 인접 정점 (Adjacent Vertex) : 간선으로 직접 연결된 정점(또는 노드)\n",
    "\n",
    "- 참고 용어\n",
    "    - 정점의 차수 (Degree): 무방향 그래프에서 하나의 정점에 인접한 정점의 수\n",
    "    - 진입 차수 (In-Degree): 방향 그래프에서 외부에서 오는 간선의 수\n",
    "    - 진출 차수 (Out-Degree): 방향 그래프에서 외부로 향하는 간선의 수\n",
    "    - 경로 길이 (Path Length): 경로를 구성하기 위해 사용된 간선의 수\n",
    "    - 단순 경로 (Simple Path): 처음 정점과 끝 정점을 제외하고 중복된 정점이 없는 경로\n",
    "    - 사이클 (Cycle): 단순 경로의 시작 정점과 종료 정점이 동일한 경우"
   ],
   "cell_type": "markdown",
   "metadata": {}
  },
  {
   "source": [
    "### 그래프의 종류\n",
    "#### 무방향 그래프(Undirected Graph)\n",
    "- 방향이 없는 그래프\n",
    "- 간선을 통해 노드는 양방향으로 갈 수 있다\n",
    "#### 방향 그래프(Directed Graph)\n",
    "- 간선에 방향이 있는 그래프\n",
    "- 노드 A, B가 A -> B로 가는 간선으로 연결되어 있을 경우 <A, B>로 표기\n",
    "#### 가중치 그래프(Weighted Graph) 또는 네트워크(Network)\n",
    "- 간선에 비용 또는 가중치가 할당된 그래프\n",
    "#### 연결 그래프(Connected Graph)와 비연결 그래프(Disconnected Graph)\n",
    "- 연결 그래프: 무방향 그래프에 있는 모든 노드에 대해 항상 경로가 존재하는 경우\n",
    "- 비연결 그래프: 무방향 그래프에서 특정 노드에 대해 경로가 존재하지 않는 경우\n",
    "#### 사이클(Cycle)과 비순환 그래프(Acyclic Graph)\n",
    "- 사이클: 단순 경로의 시작 노드와 종료 노드가 동일한 경우\n",
    "- 비순환 그래프: 사이클이 없는 그래프\n",
    "#### 완전 그래프(Complete Graph)\n",
    "- 그래프의 모든 노드가 서로 연결되어 있는 그래프"
   ],
   "cell_type": "markdown",
   "metadata": {}
  },
  {
   "source": [
    "### 파이썬으로 그래프 표현하기\n",
    "- 딕셔너리와 리스트 자료 구조를 이용하여 그래프를 표현할 수 있다"
   ],
   "cell_type": "markdown",
   "metadata": {}
  },
  {
   "cell_type": "code",
   "execution_count": 1,
   "metadata": {},
   "outputs": [],
   "source": [
    "graph = dict()\n",
    "\n",
    "graph['A'] = ['B', 'C']\n",
    "graph['B'] = ['A', 'D']\n",
    "graph['C'] = ['A', 'G', 'H', 'I']\n",
    "graph['D'] = ['B', 'E', 'F']\n",
    "graph['E'] = ['D']\n",
    "graph['F'] = ['D']\n",
    "graph['G'] = ['C']\n",
    "graph['H'] = ['C']\n",
    "graph['I'] = ['C', 'J']\n",
    "graph['J'] = ['I']"
   ]
  },
  {
   "source": [
    "## 너비 우선 탐색(Breadth-First Search)\n",
    "- 정점들과 같은 레벨에 있는 노드들을 먼저 탐색하는 방식\n",
    "- need_visit 큐와 visited 큐 두개를 생성\n",
    "- BFS의 시간 복잡도: O(노드 수(V) + 간선 수(E))"
   ],
   "cell_type": "markdown",
   "metadata": {}
  },
  {
   "cell_type": "code",
   "execution_count": 2,
   "metadata": {},
   "outputs": [],
   "source": [
    "def bfs(graph, start_node):\n",
    "    visited = list()\n",
    "    need_visit = list()\n",
    "    \n",
    "    need_visit.append(start_node)\n",
    "    \n",
    "    while need_visit:\n",
    "        node = need_visit.pop(0)\n",
    "        if node not in visited:\n",
    "            visited.append(node)\n",
    "            need_visit.extend(graph[node])\n",
    "    \n",
    "    return visited"
   ]
  },
  {
   "cell_type": "code",
   "execution_count": 3,
   "metadata": {},
   "outputs": [
    {
     "output_type": "execute_result",
     "data": {
      "text/plain": [
       "['A', 'B', 'C', 'D', 'G', 'H', 'I', 'E', 'F', 'J']"
      ]
     },
     "metadata": {},
     "execution_count": 3
    }
   ],
   "source": [
    "bfs(graph, 'A')"
   ]
  },
  {
   "source": [
    "## 깊이 우선 탐색(Depth-First Search)\n",
    "- 정점의 자식들을 먼저 탐색하는 방식\n",
    "- need_visit 스택과 visited 큐 두개를 생성\n",
    "- DFS의 시간 복잡도: O(V + E)"
   ],
   "cell_type": "markdown",
   "metadata": {}
  },
  {
   "cell_type": "code",
   "execution_count": 4,
   "metadata": {},
   "outputs": [],
   "source": [
    "def dfs(graph, start_node):\n",
    "    visited, need_visit = list(), list()\n",
    "    need_visit.append(start_node)\n",
    "    \n",
    "    while need_visit:\n",
    "        node = need_visit.pop()\n",
    "        if node not in visited:\n",
    "            visited.append(node)\n",
    "            need_visit.extend(graph[node])\n",
    "    \n",
    "    return visited"
   ]
  },
  {
   "cell_type": "code",
   "execution_count": 5,
   "metadata": {},
   "outputs": [
    {
     "output_type": "execute_result",
     "data": {
      "text/plain": [
       "['A', 'C', 'I', 'J', 'H', 'G', 'B', 'D', 'F', 'E']"
      ]
     },
     "metadata": {},
     "execution_count": 5
    }
   ],
   "source": [
    "dfs(graph, 'A')"
   ]
  },
  {
   "cell_type": "code",
   "execution_count": null,
   "metadata": {},
   "outputs": [],
   "source": []
  }
 ]
}