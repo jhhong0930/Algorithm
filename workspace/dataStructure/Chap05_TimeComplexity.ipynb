{
 "cells": [
  {
   "cell_type": "markdown",
   "metadata": {
    "collapsed": true,
    "pycharm": {
     "name": "#%% md\n"
    }
   },
   "source": [
    "#### 알고리즘 복잡도 계산기 필요한 이유\n",
    "- 다양한 알고리즘 중 어느 알고리즘이 더 좋은지를 분석하기 위해 복잡도를 정의하고 계산\n",
    "- 시간 복잡도: 알고리즘의 실행 속도(단계 수)\n",
    "- 공간 복잡도: 알고리즘이 사용하는 메모리 사이즈"
   ]
  },
  {
   "cell_type": "markdown",
   "source": [
    "#### 알고리즘의 성능 표기법\n",
    "* Big O (빅-오) 표기법\n",
    "    - 알고리즘 최악의 실행 시간을 표기\n",
    "    - 가장 많이/일반적으로 사용\n",
    "    - 항상 최악의 상황을 고려하여 이정도의 성능은 보장한다는 의미\n",
    "* Ω (오메가) 표기법\n",
    "    - 알고리즘 최상의 실행 시간을 표기\n",
    "* Θ (세타) 표기법\n",
    "    - 알고리즘 평균 실행 시간을 표기"
   ],
   "metadata": {
    "collapsed": false,
    "pycharm": {
     "name": "#%% md\n"
    }
   }
  },
  {
   "cell_type": "markdown",
   "source": [
    "#### 빅 오 표기법\n",
    "- O(입력)\n",
    "    - 입력 n에 따라 결정되는 시간 복잡도 함수\n",
    "    - 입력 n 의 크기에 따라 기하급수적으로 시간 복잡도가 늘어날 수 있음\n",
    "    - O(1) < O($log n$) < O(n) < O(n$log n$) < O($n^2$) < O($2^n$) < O(n!)\n",
    "      - 참고: log n 의 베이스는 2 - $log_2 n$"
   ],
   "metadata": {
    "collapsed": false,
    "pycharm": {
     "name": "#%% md\n"
    }
   }
  },
  {
   "cell_type": "markdown",
   "source": [
    "<img src=\"http://www.fun-coding.org/00_Images/bigo.png\" width=400/>"
   ],
   "metadata": {
    "collapsed": false
   }
  },
  {
   "cell_type": "markdown",
   "source": [
    "1부터 n 까지의 합을 구하는 알고리즘1\n",
    "  - 입력 n에 따라 덧셈을 n 번 해야 함 (반복문!)\n",
    "  - 시간 복잡도: n, 빅 오 표기법으로는 **O(n)**"
   ],
   "metadata": {
    "collapsed": false,
    "pycharm": {
     "name": "#%% md\n"
    }
   }
  },
  {
   "cell_type": "code",
   "execution_count": 1,
   "outputs": [],
   "source": [
    "def sum_all(n):\n",
    "    total = 0\n",
    "    for num in range(1, n + 1):\n",
    "        total += num\n",
    "    return total"
   ],
   "metadata": {
    "collapsed": false,
    "pycharm": {
     "name": "#%%\n"
    }
   }
  },
  {
   "cell_type": "code",
   "execution_count": 2,
   "outputs": [
    {
     "data": {
      "text/plain": "5050"
     },
     "execution_count": 2,
     "metadata": {},
     "output_type": "execute_result"
    }
   ],
   "source": [
    "sum_all(100)"
   ],
   "metadata": {
    "collapsed": false,
    "pycharm": {
     "name": "#%%\n"
    }
   }
  },
  {
   "cell_type": "markdown",
   "source": [
    "1부터 n 까지의 합을 구하는 알고리즘2\n",
    "  - 입력 n이 어떻든 간에, 곱셈/덧셈/나눗셈 하면 됨 (반복문이 없음!)\n",
    "  - 시간 복잡도: 1, 빅 오 표기법으로는 **O(1)**"
   ],
   "metadata": {
    "collapsed": false,
    "pycharm": {
     "name": "#%% md\n"
    }
   }
  },
  {
   "cell_type": "code",
   "execution_count": null,
   "outputs": [],
   "source": [
    "def sum_all2(n):\n",
    "    return int(n * (n + 1) / 2)"
   ],
   "metadata": {
    "collapsed": false,
    "pycharm": {
     "name": "#%%\n"
    }
   }
  }
 ],
 "metadata": {
  "kernelspec": {
   "display_name": "Python 3",
   "language": "python",
   "name": "python3"
  },
  "language_info": {
   "codemirror_mode": {
    "name": "ipython",
    "version": 2
   },
   "file_extension": ".py",
   "mimetype": "text/x-python",
   "name": "python",
   "nbconvert_exporter": "python",
   "pygments_lexer": "ipython2",
   "version": "2.7.6"
  }
 },
 "nbformat": 4,
 "nbformat_minor": 0
}