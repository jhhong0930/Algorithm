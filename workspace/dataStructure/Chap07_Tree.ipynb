{
 "cells": [
  {
   "cell_type": "markdown",
   "source": [
    "Tree: Node와 Branch를 이용하여 사이클을 이루지 않도록 구성한 데이터 구조\r\n",
    "- Node: 트리에서 데이터를 저장하는 기본 요소 (데이터와 다른 연결된 노드에 대한 Branch 정보 포함)\r\n",
    "- Root Node: 트리 맨 위에 있는 노드\r\n",
    "- Level: 최상위 노드를 Level 0으로 하였을 때, 하위 Branch로 연결된 노드의 깊이를 나타냄\r\n",
    "- Parent Node: 어떤 노드의 다음 레벨에 연결된 노드\r\n",
    "- Child Node: 어떤 노드의 상위 레벨에 연결된 노드\r\n",
    "- Leaf Node (Terminal Node): Child Node가 하나도 없는 노드\r\n",
    "- Sibling (Brother Node): 동일한 Parent Node를 가진 노드\r\n",
    "- Depth: 트리에서 Node가 가질 수 있는 최대 Level"
   ],
   "metadata": {
    "collapsed": true
   }
  },
  {
   "cell_type": "code",
   "execution_count": null,
   "source": [
    "# 노드 클래스 구현\r\n",
    "class Node:\r\n",
    "    def __init__(self, value):\r\n",
    "        self.value = value\r\n",
    "        self.left = None\r\n",
    "        self.right = None"
   ],
   "outputs": [],
   "metadata": {}
  },
  {
   "cell_type": "code",
   "execution_count": null,
   "source": [
    "# 이진 탐색 트리에 데이터 추가\r\n",
    "class NodeMgmt:\r\n",
    "    def __init__(self, head):\r\n",
    "        self.head = head # 루트노드\r\n",
    "    \r\n",
    "    def insert(self, value):\r\n",
    "        self.current_node = self.head\r\n",
    "        while True:\r\n",
    "            if value < self.current_node.value: # 추가하려는 값이 상위 노드보다 작을 경우\r\n",
    "                if self.current_node.left != None: # 추가하려는 곳에 이미 노드가 있을 경우\r\n",
    "                    self.current_node = self.current_node.left\r\n",
    "                else:\r\n",
    "                    self.current_node.left = Node(value)\r\n",
    "                    break\r\n",
    "            else:\r\n",
    "                if self.current_node.right != None:\r\n",
    "                    self.current_node = self.current_node.right\r\n",
    "                else:\r\n",
    "                    self.current_node.right = Node(value)\r\n",
    "                    break"
   ],
   "outputs": [],
   "metadata": {}
  },
  {
   "cell_type": "code",
   "execution_count": null,
   "source": [
    "head = Node(1)\r\n",
    "BST = NodeMgmt(head)\r\n",
    "BST.insert(2)"
   ],
   "outputs": [],
   "metadata": {}
  },
  {
   "cell_type": "code",
   "execution_count": null,
   "source": [
    "# 이진 탐색 트리 데이터 검색\r\n",
    "class NodeMgmt:\r\n",
    "    def __init__(self, head):\r\n",
    "        self.head = head # 루트노드\r\n",
    "    \r\n",
    "    def insert(self, value):\r\n",
    "        self.current_node = self.head\r\n",
    "        while True:\r\n",
    "            if value < self.current_node.value: # 추가하려는 값이 상위 노드보다 작을 경우\r\n",
    "                if self.current_node.left != None: # 추가하려는 곳에 이미 노드가 있을 경우\r\n",
    "                    self.current_node = self.current_node.left\r\n",
    "                else:\r\n",
    "                    self.current_node.left = Node(value)\r\n",
    "                    break\r\n",
    "            else:\r\n",
    "                if self.current_node.right != None:\r\n",
    "                    self.current_node = self.current_node.right\r\n",
    "                else:\r\n",
    "                    self.current_node.right = Node(value)\r\n",
    "                    break\r\n",
    "                \r\n",
    "    def search(self, value):\r\n",
    "        self.current_node = self.head\r\n",
    "        while self.current_node:\r\n",
    "            if self.current_node.value == value:\r\n",
    "                return True\r\n",
    "            elif value < self.current_node.value:\r\n",
    "                self.current_node = self.current_node.left\r\n",
    "            else:\r\n",
    "                self.current_node = self.current_node.right\r\n",
    "        return False  "
   ],
   "outputs": [],
   "metadata": {}
  },
  {
   "cell_type": "code",
   "execution_count": null,
   "source": [
    "head = Node(1)\r\n",
    "BST = NodeMgmt(head)\r\n",
    "BST.insert(2)\r\n",
    "BST.insert(3)\r\n",
    "BST.insert(0)\r\n",
    "BST.insert(4)\r\n",
    "BST.insert(8)"
   ],
   "outputs": [],
   "metadata": {}
  }
 ],
 "metadata": {
  "kernelspec": {
   "display_name": "Python 3",
   "language": "python",
   "name": "python3"
  },
  "language_info": {
   "codemirror_mode": {
    "name": "ipython",
    "version": 2
   },
   "file_extension": ".py",
   "mimetype": "text/x-python",
   "name": "python",
   "nbconvert_exporter": "python",
   "pygments_lexer": "ipython2",
   "version": "2.7.6"
  }
 },
 "nbformat": 4,
 "nbformat_minor": 2
}