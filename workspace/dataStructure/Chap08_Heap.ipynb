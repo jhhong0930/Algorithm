{
 "metadata": {
  "language_info": {
   "codemirror_mode": {
    "name": "ipython",
    "version": 3
   },
   "file_extension": ".py",
   "mimetype": "text/x-python",
   "name": "python",
   "nbconvert_exporter": "python",
   "pygments_lexer": "ipython3",
   "version": 3
  },
  "orig_nbformat": 4
 },
 "nbformat": 4,
 "nbformat_minor": 2,
 "cells": [
  {
   "source": [
    "## Heap \n",
    "데이터에서 최대값과 최소값을 빠르게 찾기 위해 고안된 완전 이진 트리(Complete Binary Tree)  \n",
    "- 완전 이진 트리: 노드를 삽입할 때 최하단 왼쪽 노드부터 차례대로 삽입하는 트리\n",
    "- 힙을 사용하는 이유\n",
    "    - 배열에 데이터를 넣고 최소값과 최대값을 찾으려면 O(n)이 걸린다\n",
    "    - 힙에 데이터를 넣고 최소값과 최대값을 찾으면 O(logN)이 걸린다\n",
    "    - 우선순위 큐와 같이 최소값 또는 최대값을 빠르게 찾아야 하는 자료구조 및 알고리즘 구현 등에 활용된다"
   ],
   "cell_type": "markdown",
   "metadata": {}
  },
  {
   "source": [
    "## Heap의 구조\n",
    "최대값을 구하기 위한 구조(최대 힙, Max Heap)과 최소값을 구하기 위한 구조(최소 힙, Min Heap)로 분류  \n",
    "- 각 노드의 값은 해당 노드의 자식 노드가 가진 값보다 크거나 같다(최대 힙의 경우)\n",
    "    - 최소 힙의 경우는 각 노드의 값은 해당 노드의 자식 노드가 가진 값보다 크거나 작다\n",
    "- 안전 이진 트리 형태를 가진다"
   ],
   "cell_type": "markdown",
   "metadata": {}
  },
  {
   "source": [
    "## Heap과 이진 탐색 트리의 공통점과 차이점\n",
    "공통점: 힙과 이진 탐색 트리는 모두 이진 트리  \n",
    "차이점:  \n",
    "    - 힙은 각 노드의 값이 자식 노드보다 크거나 같다(Max Heap의 경우)  \n",
    "    - 이진 탐색 트리는 왼쪽 자식 노드의 값이 가장 작고 부모, 오른쪽 자식 노드 순으로 커진다  \n",
    "    - 힙은 이진 탐색 트리의 조건인 작은 값은 왼쪽, 큰 값은 오른쪽이라는 조건은 없다  "
   ],
   "cell_type": "markdown",
   "metadata": {}
  },
  {
   "source": [
    "## Heap의 데이터 삽입과 삭제\n",
    "- 데이터 삽입  \n",
    "    - 왼쪽 최하단부 노드부터 채운다  \n",
    "    - 채워진 노드 위치에서 부모 노드보다 값이 클 경우 부모 노드와 위치를 바꾼다(Max Heap)  \n",
    "- 데이터 삭제  \n",
    "    - 힙의 용도는 최소값 또는 최대값을 root노드에 놓아서 바로 꺼내 쓸 수 있도록 함으로 보통 삭제는 최상단 노드를 삭제한다\n",
    "    - root노드 삭제시 가장 최하단부 왼쪽에 위치한 노드(보통은 마지막에 추가한 노드)를 root로 이동\n",
    "    - root노드의 값이 child보다 작을경우 child node중 가장 큰 값을 교환"
   ],
   "cell_type": "markdown",
   "metadata": {}
  }
 ]
}