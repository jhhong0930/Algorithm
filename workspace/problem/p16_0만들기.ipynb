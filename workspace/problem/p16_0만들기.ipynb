{
 "cells": [
  {
   "cell_type": "markdown",
   "source": [
    "https://www.acmicpc.net/problem/7490"
   ],
   "metadata": {}
  },
  {
   "cell_type": "code",
   "execution_count": 3,
   "source": [
    "import copy\r\n",
    "\r\n",
    "def recursive(array, n):\r\n",
    "    if len(array) == n:\r\n",
    "        operators_list.append(copy.deepcopy(array))\r\n",
    "        return\r\n",
    "    array.append(' ')\r\n",
    "    recursive(array, n)\r\n",
    "    array.pop()\r\n",
    "\r\n",
    "    array.append('+')\r\n",
    "    recursive(array, n)\r\n",
    "    array.pop()\r\n",
    "\r\n",
    "    array.append('-')\r\n",
    "    recursive(array, n)\r\n",
    "    array.pop()\r\n",
    "\r\n",
    "t = int(input())\r\n",
    "\r\n",
    "for _ in range(t):\r\n",
    "    operators_list = []\r\n",
    "    n = int(input())\r\n",
    "    recursive([], n - 1)\r\n",
    "\r\n",
    "    integers = [i for i in range(1, n + 1)]\r\n",
    "\r\n",
    "    for operators in operators_list:\r\n",
    "        string = \"\"\r\n",
    "        for i in range(n - 1):\r\n",
    "            string += str(integers[i]) + operators[i]\r\n",
    "        string += str(integers[-1])\r\n",
    "        if eval(string.replace(\" \", \"\")) == 0:\r\n",
    "            print(string)\r\n",
    "    print()"
   ],
   "outputs": [
    {
     "output_type": "stream",
     "name": "stdout",
     "text": [
      "1-2-3+4\n",
      "\n"
     ]
    }
   ],
   "metadata": {}
  },
  {
   "cell_type": "code",
   "execution_count": null,
   "source": [],
   "outputs": [],
   "metadata": {}
  }
 ],
 "metadata": {
  "orig_nbformat": 4,
  "language_info": {
   "name": "python",
   "version": "3.9.6",
   "mimetype": "text/x-python",
   "codemirror_mode": {
    "name": "ipython",
    "version": 3
   },
   "pygments_lexer": "ipython3",
   "nbconvert_exporter": "python",
   "file_extension": ".py"
  },
  "kernelspec": {
   "name": "python3",
   "display_name": "Python 3.9.6 64-bit"
  },
  "interpreter": {
   "hash": "dacf369587501b26418819cff8f6b8b14cb77ec930ad41743fe8f2a5d9548398"
  }
 },
 "nbformat": 4,
 "nbformat_minor": 2
}