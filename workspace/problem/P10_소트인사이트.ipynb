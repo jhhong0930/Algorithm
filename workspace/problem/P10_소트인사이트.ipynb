{
 "cells": [
  {
   "cell_type": "markdown",
   "source": [
    "https://www.acmicpc.net/problem/1427"
   ],
   "metadata": {}
  },
  {
   "cell_type": "code",
   "execution_count": null,
   "source": [
    "array = input()\r\n",
    "\r\n",
    "for i in range(9, -1, -1):\r\n",
    "    for j in array:\r\n",
    "        if int(j) == i:\r\n",
    "            print(i, end='')"
   ],
   "outputs": [],
   "metadata": {}
  }
 ],
 "metadata": {
  "orig_nbformat": 4,
  "language_info": {
   "name": "python"
  }
 },
 "nbformat": 4,
 "nbformat_minor": 2
}