{
 "cells": [
  {
   "cell_type": "markdown",
   "source": [
    "https://www.acmicpc.net/problem/2750"
   ],
   "metadata": {}
  },
  {
   "cell_type": "code",
   "execution_count": null,
   "source": [
    "n = int(input())\r\n",
    "array = list()\r\n",
    "\r\n",
    "for _ in range(n):\r\n",
    "    array.append(int(input()))\r\n",
    "\r\n",
    "array.sort()\r\n",
    "\r\n",
    "for i in array:\r\n",
    "    print(i)"
   ],
   "outputs": [],
   "metadata": {}
  },
  {
   "cell_type": "code",
   "execution_count": null,
   "source": [
    "# 선택 정렬\r\n",
    "n = int(input())\r\n",
    "array = list()\r\n",
    "\r\n",
    "for _ in range(n):\r\n",
    "    array.append(int(input()))\r\n",
    "\r\n",
    "for i in range(n):\r\n",
    "    min_index = i\r\n",
    "    for j in range(i + 1, n):\r\n",
    "        if array[min_index] > array[j]:\r\n",
    "            min_index = j\r\n",
    "    array[i], array[min_index] = array[min_index], array[i]\r\n",
    "\r\n",
    "for i in array:\r\n",
    "    print(i)"
   ],
   "outputs": [],
   "metadata": {}
  }
 ],
 "metadata": {
  "orig_nbformat": 4,
  "language_info": {
   "name": "python"
  }
 },
 "nbformat": 4,
 "nbformat_minor": 2
}