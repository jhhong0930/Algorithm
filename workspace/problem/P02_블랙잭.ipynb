{
 "cells": [
  {
   "cell_type": "markdown",
   "source": [
    "https://www.acmicpc.net/problem/2798"
   ],
   "metadata": {}
  },
  {
   "cell_type": "code",
   "execution_count": 8,
   "source": [
    "n, m = list(map(int, input().split(' ')))\r\n",
    "data = list(map(int, input().split(' ')))\r\n",
    "\r\n",
    "result = 0\r\n",
    "length = len(data)\r\n",
    "\r\n",
    "for i in range(0, length):\r\n",
    "    for j in range(i + 1, length):\r\n",
    "        for k in range(j + 1, length):\r\n",
    "            sum_value = data[i] + data[j] + data[k]\r\n",
    "            if sum_value <= m:\r\n",
    "                result = max(result, sum_value)\r\n",
    "print(result)"
   ],
   "outputs": [],
   "metadata": {}
  }
 ],
 "metadata": {
  "orig_nbformat": 4,
  "language_info": {
   "name": "python",
   "version": "3.9.6",
   "mimetype": "text/x-python",
   "codemirror_mode": {
    "name": "ipython",
    "version": 3
   },
   "pygments_lexer": "ipython3",
   "nbconvert_exporter": "python",
   "file_extension": ".py"
  },
  "kernelspec": {
   "name": "python3",
   "display_name": "Python 3.9.6 64-bit"
  },
  "interpreter": {
   "hash": "dacf369587501b26418819cff8f6b8b14cb77ec930ad41743fe8f2a5d9548398"
  }
 },
 "nbformat": 4,
 "nbformat_minor": 2
}