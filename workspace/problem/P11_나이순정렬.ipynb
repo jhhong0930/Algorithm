{
 "cells": [
  {
   "cell_type": "markdown",
   "source": [
    "https://www.acmicpc.net/problem/10814"
   ],
   "metadata": {}
  },
  {
   "cell_type": "code",
   "execution_count": null,
   "source": [
    "n = int(input())\r\n",
    "\r\n",
    "array = []\r\n",
    "\r\n",
    "for _ in range(n):\r\n",
    "    input_data = input().split(' ')\r\n",
    "    array.append((int(input_data[0]), input_data[1]))\r\n",
    "\r\n",
    "array = sorted(array, key = lambda x: x[0])\r\n",
    "\r\n",
    "for i in array:\r\n",
    "    print(i[0], i[1])"
   ],
   "outputs": [],
   "metadata": {}
  }
 ],
 "metadata": {
  "orig_nbformat": 4,
  "language_info": {
   "name": "python"
  }
 },
 "nbformat": 4,
 "nbformat_minor": 2
}