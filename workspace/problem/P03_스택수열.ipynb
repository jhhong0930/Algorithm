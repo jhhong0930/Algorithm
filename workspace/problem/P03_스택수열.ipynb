{
 "cells": [
  {
   "cell_type": "markdown",
   "source": [
    "https://www.acmicpc.net/problem/1874"
   ],
   "metadata": {}
  },
  {
   "cell_type": "code",
   "execution_count": null,
   "source": [
    "n = int(input())\r\n",
    "\r\n",
    "count = 1\r\n",
    "stack = []\r\n",
    "result = []\r\n",
    "\r\n",
    "for i in range(1, n + 1):\r\n",
    "    data = int(input())\r\n",
    "    while count <= data:\r\n",
    "        stack.append(count)\r\n",
    "        count += 1\r\n",
    "        result.append('+')\r\n",
    "    if stack[-1] == data:\r\n",
    "        stack.pop()\r\n",
    "        result.append('-')\r\n",
    "    else:\r\n",
    "        print('NO')\r\n",
    "        exit(0)\r\n",
    "        \r\n",
    "print('\\n'.join(result))"
   ],
   "outputs": [],
   "metadata": {}
  }
 ],
 "metadata": {
  "orig_nbformat": 4,
  "language_info": {
   "name": "python",
   "version": "3.9.6",
   "mimetype": "text/x-python",
   "codemirror_mode": {
    "name": "ipython",
    "version": 3
   },
   "pygments_lexer": "ipython3",
   "nbconvert_exporter": "python",
   "file_extension": ".py"
  },
  "kernelspec": {
   "name": "python3",
   "display_name": "Python 3.9.6 64-bit"
  },
  "interpreter": {
   "hash": "dacf369587501b26418819cff8f6b8b14cb77ec930ad41743fe8f2a5d9548398"
  }
 },
 "nbformat": 4,
 "nbformat_minor": 2
}