{
 "cells": [
  {
   "cell_type": "markdown",
   "source": [
    "https://www.acmicpc.net/problem/1920"
   ],
   "metadata": {}
  },
  {
   "cell_type": "code",
   "execution_count": null,
   "source": [
    "n = int(input())\r\n",
    "array = set(map(int, input().split()))\r\n",
    "m = int(input())\r\n",
    "x = list(map(int, input().split()))\r\n",
    "\r\n",
    "for i in x:\r\n",
    "    if i not in array:\r\n",
    "        print('0')\r\n",
    "    else:\r\n",
    "        print('1')"
   ],
   "outputs": [],
   "metadata": {}
  }
 ],
 "metadata": {
  "orig_nbformat": 4,
  "language_info": {
   "name": "python"
  }
 },
 "nbformat": 4,
 "nbformat_minor": 2
}