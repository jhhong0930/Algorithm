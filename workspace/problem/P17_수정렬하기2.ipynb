{
 "cells": [
  {
   "cell_type": "markdown",
   "source": [
    "https://www.acmicpc.net/problem/2751"
   ],
   "metadata": {}
  },
  {
   "cell_type": "code",
   "execution_count": 1,
   "source": [
    "def solution(array):\r\n",
    "    if len(array) <= 1:\r\n",
    "        return array\r\n",
    "    \r\n",
    "    mid = len(array) // 2\r\n",
    "    left = solution(array[:mid])\r\n",
    "    right = solution(array[mid:])\r\n",
    "    i, j, k = 0, 0, 0\r\n",
    "\r\n",
    "    while i < len(left) and j < len(right):\r\n",
    "        if left[i] < right[j]:\r\n",
    "            array[k] = left[i]\r\n",
    "            i += 1\r\n",
    "        else:\r\n",
    "            array[k] = right[j]\r\n",
    "            j += 1\r\n",
    "        k += 1\r\n",
    "    if i == len(left):\r\n",
    "        while j < len(right):\r\n",
    "            array[k] = right[j]\r\n",
    "            j += 1\r\n",
    "            k += 1\r\n",
    "    elif j == len(right):\r\n",
    "        while i < len(left):\r\n",
    "            array[k] = left[i]\r\n",
    "            i += 1\r\n",
    "            k += 1\r\n",
    "    return array\r\n",
    "\r\n",
    "n = int(input())\r\n",
    "array= []\r\n",
    "\r\n",
    "for _ in range(n):\r\n",
    "    array.append(int(input()))\r\n",
    "\r\n",
    "array = solution(array)\r\n",
    "\r\n",
    "for index in array:\r\n",
    "    print(index)"
   ],
   "outputs": [
    {
     "output_type": "stream",
     "name": "stdout",
     "text": [
      "1\n",
      "2\n",
      "3\n",
      "4\n",
      "5\n"
     ]
    }
   ],
   "metadata": {}
  },
  {
   "cell_type": "code",
   "execution_count": null,
   "source": [],
   "outputs": [],
   "metadata": {}
  }
 ],
 "metadata": {
  "orig_nbformat": 4,
  "language_info": {
   "name": "python",
   "version": "3.9.6",
   "mimetype": "text/x-python",
   "codemirror_mode": {
    "name": "ipython",
    "version": 3
   },
   "pygments_lexer": "ipython3",
   "nbconvert_exporter": "python",
   "file_extension": ".py"
  },
  "kernelspec": {
   "name": "python3",
   "display_name": "Python 3.9.6 64-bit"
  },
  "interpreter": {
   "hash": "dacf369587501b26418819cff8f6b8b14cb77ec930ad41743fe8f2a5d9548398"
  }
 },
 "nbformat": 4,
 "nbformat_minor": 2
}