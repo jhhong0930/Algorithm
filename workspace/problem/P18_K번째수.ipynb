{
 "cells": [
  {
   "cell_type": "code",
   "execution_count": null,
   "metadata": {},
   "outputs": [],
   "source": [
    "def solution(array):\n",
    "    if len(array) <= 1:\n",
    "        return array\n",
    "    \n",
    "    mid = len(array) // 2\n",
    "    left = solution(array[:mid])\n",
    "    right = solution(array[mid:])\n",
    "    i, j, k = 0, 0, 0\n",
    "\n",
    "    while i < len(left) and j < len(right):\n",
    "        if left[i] < right[j]:\n",
    "            array[k] = left[i]\n",
    "            i += 1\n",
    "        else:\n",
    "            array[k] = right[j]\n",
    "            j += 1\n",
    "        k += 1\n",
    "    if i == len(left):\n",
    "        while j < len(right):\n",
    "            array[k] = right[j]\n",
    "            j += 1\n",
    "            k += 1\n",
    "    elif j == len(right):\n",
    "        while i < len(left):\n",
    "            array[k] = left[i]\n",
    "            i += 1\n",
    "            k += 1\n",
    "    return array\n",
    "\n",
    "n, k = map(int, input().split(' '))\n",
    "array = list(map(int, input().split(' ')))\n",
    "\n",
    "array = solution(array)\n",
    "\n",
    "print(array[k - 1])"
   ]
  }
 ],
 "metadata": {
  "language_info": {
   "name": "python"
  },
  "orig_nbformat": 4
 },
 "nbformat": 4,
 "nbformat_minor": 2
}
