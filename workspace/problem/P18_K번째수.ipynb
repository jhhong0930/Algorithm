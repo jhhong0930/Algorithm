{
 "cells": [
  {
   "cell_type": "code",
   "execution_count": null,
   "source": [
    "def solution(array):\r\n",
    "    if len(array) <= 1:\r\n",
    "        return array\r\n",
    "    \r\n",
    "    mid = len(array) // 2\r\n",
    "    left = solution(array[:mid])\r\n",
    "    right = solution(array[mid:])\r\n",
    "    i, j, k = 0, 0, 0\r\n",
    "\r\n",
    "    while i < len(left) and j < len(right):\r\n",
    "        if left[i] < right[j]:\r\n",
    "            array[k] = left[i]\r\n",
    "            i += 1\r\n",
    "        else:\r\n",
    "            array[k] = right[j]\r\n",
    "            j += 1\r\n",
    "        k += 1\r\n",
    "    if i == len(left):\r\n",
    "        while j < len(right):\r\n",
    "            array[k] = right[j]\r\n",
    "            j += 1\r\n",
    "            k += 1\r\n",
    "    elif j == len(right):\r\n",
    "        while i < len(left):\r\n",
    "            array[k] = left[i]\r\n",
    "            i += 1\r\n",
    "            k += 1\r\n",
    "    return array\r\n",
    "\r\n",
    "n, k = map(int, input().split(' '))\r\n",
    "array = list(map(int, input().split(' ')))\r\n",
    "\r\n",
    "array = solution(array)\r\n",
    "\r\n",
    "print(array[k - 1])"
   ],
   "outputs": [],
   "metadata": {}
  }
 ],
 "metadata": {
  "orig_nbformat": 4,
  "language_info": {
   "name": "python"
  }
 },
 "nbformat": 4,
 "nbformat_minor": 2
}