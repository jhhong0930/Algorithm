{
 "cells": [
  {
   "cell_type": "markdown",
   "source": [
    "https://www.acmicpc.net/problem/1966"
   ],
   "metadata": {}
  },
  {
   "cell_type": "code",
   "execution_count": null,
   "source": [
    "t = int(input())\r\n",
    "\r\n",
    "for _ in range(t):\r\n",
    "    n, m = list(map(int, input().split(' ')))\r\n",
    "    queue = list(map(int, input().split(' ')))\r\n",
    "    queue = [(i, index) for index, i in enumerate(queue)]\r\n",
    "\r\n",
    "    count = 0\r\n",
    "\r\n",
    "    while True:\r\n",
    "        if queue[0][0] == max(queue, key = lambda x: x[0])[0]:\r\n",
    "            count += 1\r\n",
    "            if queue[0][1] == m:\r\n",
    "                print(count)\r\n",
    "                break\r\n",
    "            else:\r\n",
    "                queue.pop(0)\r\n",
    "        else:\r\n",
    "            queue.append(queue.pop(0))"
   ],
   "outputs": [],
   "metadata": {}
  }
 ],
 "metadata": {
  "orig_nbformat": 4,
  "language_info": {
   "name": "python"
  }
 },
 "nbformat": 4,
 "nbformat_minor": 2
}