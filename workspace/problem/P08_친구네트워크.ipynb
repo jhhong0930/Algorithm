{
 "cells": [
  {
   "cell_type": "markdown",
   "source": [
    "https://www.acmicpc.net/problem/4195"
   ],
   "metadata": {}
  },
  {
   "cell_type": "code",
   "execution_count": 2,
   "source": [
    "def find(x):\r\n",
    "    if x == parent[x]:\r\n",
    "        return x\r\n",
    "    else:\r\n",
    "        p = find(parent[x])\r\n",
    "        parent[x] = p\r\n",
    "        return parent[x]\r\n",
    "\r\n",
    "def union(x, y):\r\n",
    "    x = find(x)\r\n",
    "    y = find(y)\r\n",
    "\r\n",
    "    if x != y:\r\n",
    "        parent[y] = x\r\n",
    "        number[x] += number[y]\r\n",
    "\r\n",
    "t = int(input())\r\n",
    "\r\n",
    "for _ in range(t):\r\n",
    "    parent = dict()\r\n",
    "    number = dict()\r\n",
    "\r\n",
    "    f = int(input())\r\n",
    "\r\n",
    "    for _ in range(f):\r\n",
    "        x, y = input().split(' ')\r\n",
    "\r\n",
    "        if x not in parent:\r\n",
    "            parent[x] = x\r\n",
    "            number[x] = 1\r\n",
    "        if y not in parent:\r\n",
    "            parent[y] = y\r\n",
    "            number[y] = 1\r\n",
    "\r\n",
    "        union(x, y)\r\n",
    "\r\n",
    "        print(number[find(x)])"
   ],
   "outputs": [
    {
     "output_type": "stream",
     "name": "stdout",
     "text": [
      "2 2 3 2 "
     ]
    }
   ],
   "metadata": {}
  },
  {
   "cell_type": "code",
   "execution_count": null,
   "source": [
    "\r\n"
   ],
   "outputs": [],
   "metadata": {}
  }
 ],
 "metadata": {
  "orig_nbformat": 4,
  "language_info": {
   "name": "python",
   "version": "3.9.6",
   "mimetype": "text/x-python",
   "codemirror_mode": {
    "name": "ipython",
    "version": 3
   },
   "pygments_lexer": "ipython3",
   "nbconvert_exporter": "python",
   "file_extension": ".py"
  },
  "kernelspec": {
   "name": "python3",
   "display_name": "Python 3.9.6 64-bit"
  },
  "interpreter": {
   "hash": "dacf369587501b26418819cff8f6b8b14cb77ec930ad41743fe8f2a5d9548398"
  }
 },
 "nbformat": 4,
 "nbformat_minor": 2
}