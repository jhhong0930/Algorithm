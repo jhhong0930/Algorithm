{
 "cells": [
  {
   "cell_type": "markdown",
   "source": [
    "https://www.acmicpc.net/problem/10930"
   ],
   "metadata": {}
  },
  {
   "cell_type": "code",
   "execution_count": null,
   "source": [
    "import hashlib\r\n",
    "\r\n",
    "string = input()\r\n",
    "encoded_data = string.encode()\r\n",
    "result = hashlib.sha256(encoded_data).hexdigest()\r\n",
    "print(result)"
   ],
   "outputs": [],
   "metadata": {}
  }
 ],
 "metadata": {
  "orig_nbformat": 4,
  "language_info": {
   "name": "python"
  }
 },
 "nbformat": 4,
 "nbformat_minor": 2
}