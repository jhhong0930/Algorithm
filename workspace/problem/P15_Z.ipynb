{
 "cells": [
  {
   "cell_type": "markdown",
   "source": [
    "https://www.acmicpc.net/problem/1074"
   ],
   "metadata": {}
  },
  {
   "cell_type": "code",
   "execution_count": 4,
   "source": [
    "def solution(n, r, c):\r\n",
    "    global result\r\n",
    "    if n == 2:\r\n",
    "        if r == x and c == y:\r\n",
    "            print(result)\r\n",
    "            return\r\n",
    "        result += 1\r\n",
    "        if r == x and c + 1 == y:\r\n",
    "            print(result)\r\n",
    "            return\r\n",
    "        result += 1\r\n",
    "        if r + 1 == x and c == y:\r\n",
    "            print(result)\r\n",
    "            return\r\n",
    "        result +=1\r\n",
    "        if r + 1 == x and c + 1 == y:\r\n",
    "            print(result)\r\n",
    "            return\r\n",
    "        result += 1\r\n",
    "        return\r\n",
    "    solution(n / 2, r, c)\r\n",
    "    solution(n / 2, r, c + n / 2)\r\n",
    "    solution(n / 2, r + n / 2, c)\r\n",
    "    solution(n / 2, r + n / 2, c + n / 2)\r\n",
    "\r\n",
    "result = 0\r\n",
    "N, x, y = map(int, input().split(' '))\r\n",
    "solution(2 ** N, 0, 0)"
   ],
   "outputs": [
    {
     "output_type": "stream",
     "name": "stdout",
     "text": [
      "47\n",
      "62\n"
     ]
    }
   ],
   "metadata": {}
  },
  {
   "cell_type": "code",
   "execution_count": null,
   "source": [],
   "outputs": [],
   "metadata": {}
  }
 ],
 "metadata": {
  "orig_nbformat": 4,
  "language_info": {
   "name": "python",
   "version": "3.9.6",
   "mimetype": "text/x-python",
   "codemirror_mode": {
    "name": "ipython",
    "version": 3
   },
   "pygments_lexer": "ipython3",
   "nbconvert_exporter": "python",
   "file_extension": ".py"
  },
  "kernelspec": {
   "name": "python3",
   "display_name": "Python 3.9.6 64-bit"
  },
  "interpreter": {
   "hash": "dacf369587501b26418819cff8f6b8b14cb77ec930ad41743fe8f2a5d9548398"
  }
 },
 "nbformat": 4,
 "nbformat_minor": 2
}