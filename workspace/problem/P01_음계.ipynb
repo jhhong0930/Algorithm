{
 "cells": [
  {
   "cell_type": "markdown",
   "source": [
    "https://www.acmicpc.net/problem/2920"
   ],
   "metadata": {}
  },
  {
   "cell_type": "code",
   "execution_count": 5,
   "source": [
    "# 내 풀이\r\n",
    "a = [int(i) for i in input().split()]\r\n",
    "\r\n",
    "if sorted(a) == a:\r\n",
    "    print('ascending')\r\n",
    "elif sorted(a, reverse=True) == a:\r\n",
    "    print('descending')\r\n",
    "else:\r\n",
    "    print('mixed')"
   ],
   "outputs": [
    {
     "output_type": "stream",
     "name": "stdout",
     "text": [
      "mixed\n"
     ]
    }
   ],
   "metadata": {}
  },
  {
   "cell_type": "code",
   "execution_count": 7,
   "source": [
    "# 다른 풀이\r\n",
    "a = list(map(int, input().split(' ')))\r\n",
    "\r\n",
    "ascending = True\r\n",
    "descending = True\r\n",
    "\r\n",
    "for i in range(1, 8):\r\n",
    "    if a[i] > a[i - 1]:\r\n",
    "        descending = False\r\n",
    "    elif a[i] < a[i - 1]:\r\n",
    "        ascending = False\r\n",
    "\r\n",
    "if ascending:\r\n",
    "    print('ascending')\r\n",
    "elif descending:\r\n",
    "    print('descending')\r\n",
    "else:\r\n",
    "    print('mixed')"
   ],
   "outputs": [
    {
     "output_type": "stream",
     "name": "stdout",
     "text": [
      "ascending\n"
     ]
    }
   ],
   "metadata": {}
  },
  {
   "cell_type": "code",
   "execution_count": null,
   "source": [],
   "outputs": [],
   "metadata": {}
  }
 ],
 "metadata": {
  "orig_nbformat": 4,
  "language_info": {
   "name": "python",
   "version": "3.9.6",
   "mimetype": "text/x-python",
   "codemirror_mode": {
    "name": "ipython",
    "version": 3
   },
   "pygments_lexer": "ipython3",
   "nbconvert_exporter": "python",
   "file_extension": ".py"
  },
  "kernelspec": {
   "name": "python3",
   "display_name": "Python 3.9.6 64-bit"
  },
  "interpreter": {
   "hash": "dacf369587501b26418819cff8f6b8b14cb77ec930ad41743fe8f2a5d9548398"
  }
 },
 "nbformat": 4,
 "nbformat_minor": 2
}