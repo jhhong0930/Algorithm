{
 "cells": [
  {
   "cell_type": "markdown",
   "source": [
    "https://www.acmicpc.net/problem/5397"
   ],
   "metadata": {}
  },
  {
   "cell_type": "code",
   "execution_count": null,
   "source": [
    "t = int(input())\r\n",
    "\r\n",
    "for _ in range(t):\r\n",
    "    left_stack = []\r\n",
    "    right_stack = []\r\n",
    "    data = input()\r\n",
    "    for i in data:\r\n",
    "        if i == '-':\r\n",
    "            if left_stack:\r\n",
    "                left_stack.pop()\r\n",
    "        elif i == '<':\r\n",
    "            if left_stack:\r\n",
    "                right_stack.append(left_stack.pop())\r\n",
    "        elif i == '>':\r\n",
    "            if right_stack:\r\n",
    "                left_stack.append(right_stack.pop())\r\n",
    "        else:\r\n",
    "            left_stack.append(i)\r\n",
    "    left_stack.extend(reversed(right_stack))\r\n",
    "    print(''.join(left_stack))"
   ],
   "outputs": [],
   "metadata": {}
  }
 ],
 "metadata": {
  "orig_nbformat": 4,
  "language_info": {
   "name": "python"
  }
 },
 "nbformat": 4,
 "nbformat_minor": 2
}